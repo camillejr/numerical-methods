{
 "cells": [
  {
   "cell_type": "markdown",
   "metadata": {},
   "source": [
    "# Comparison of Euler and 4th order Runge-Kutta method\n",
    "\n",
    "We will evaluate a numerical solution to a differential equation:\n",
    "\n",
    "$\\frac{df(x)}{dx} = e^x$\n",
    "\n",
    "subject to:\n",
    "\n",
    "$f(0) = e$\n",
    "\n",
    "which has a known analytical solution for error comparison."
   ]
  },
  {
   "cell_type": "code",
   "execution_count": 1,
   "metadata": {},
   "outputs": [],
   "source": [
    "import numpy as np\n",
    "import matplotlib.pyplot as plt\n",
    "\n",
    "# Plotting parameters:\n",
    "csfont = {'fontname':'Charter', 'fontweight':'regular'}\n",
    "hfont = {'fontname':'Charter', 'fontweight':'bold'}\n",
    "ifont = {'fontname':'Charter', 'fontweight':'regular', 'style':'italic'}\n",
    "\n",
    "font_axes = 12\n",
    "font_labels = 18\n",
    "font_title = 22\n",
    "font_text = 14\n",
    "font_legend = 16"
   ]
  },
  {
   "cell_type": "markdown",
   "metadata": {},
   "source": [
    "## Define function that evaluates $e^x$ for any $x$"
   ]
  },
  {
   "cell_type": "code",
   "execution_count": 2,
   "metadata": {},
   "outputs": [],
   "source": [
    "def e_to_x(x):\n",
    "    return(np.exp(x))"
   ]
  },
  {
   "cell_type": "markdown",
   "metadata": {},
   "source": [
    "## Define function performing Euler stepping"
   ]
  },
  {
   "cell_type": "code",
   "execution_count": 3,
   "metadata": {},
   "outputs": [],
   "source": [
    "def euler(f, x_0, f_0, h, N):\n",
    "    \"\"\"This function performs N Euler steps\"\"\"\n",
    "    \n",
    "    f_euler = np.zeros(N+1)\n",
    "    f_euler[0] = f_0\n",
    "\n",
    "    for i in range(0,N):\n",
    "        f_euler[i+1] = f_euler[i] + h * f(x_0+i*h)\n",
    "\n",
    "    return f_euler"
   ]
  },
  {
   "cell_type": "markdown",
   "metadata": {},
   "source": [
    "## Define function performing Runge-Kutta stepping"
   ]
  },
  {
   "cell_type": "code",
   "execution_count": 4,
   "metadata": {},
   "outputs": [],
   "source": [
    "def runge_kutta(f, x_0, f_0, h, N):\n",
    "    \"\"\"This function performs N Runge-Kutta steps\"\"\"\n",
    "    \n",
    "    R = np.zeros(N+1)\n",
    "    f_RK = np.zeros(N+1)\n",
    "    f_RK[0] = f_0\n",
    "\n",
    "    R1 = f(x_0) * h\n",
    "    R2 = f(x_0 + 0.5*h) * h\n",
    "    R3 = f(x_0 + 0.5*h) * h\n",
    "    R4 = f(x_0 + h) * h\n",
    "\n",
    "    R[0] = 1/6 * (R1 + 2*R2 + 2*R3 + R4)\n",
    "    \n",
    "    for i in range(0, N):\n",
    "        f_RK[i+1] = f_RK[i] + R[i]\n",
    "\n",
    "        R1 = f(x_0+(i+1)*h) * h\n",
    "        R2 = f(x_0+(i+1)*h + 0.5*h) * h\n",
    "        R3 = f(x_0+(i+1)*h + 0.5*h) * h\n",
    "        R4 = f(x_0+(i+1)*h + h) * h\n",
    "\n",
    "        R[i+1] = 1/6 * (R1 + 2*R2 + 2*R3 + R4)\n",
    "    \n",
    "    return f_RK"
   ]
  },
  {
   "cell_type": "markdown",
   "metadata": {},
   "source": [
    "## Run both numerical differentiations and compute analytical solution"
   ]
  },
  {
   "cell_type": "code",
   "execution_count": 5,
   "metadata": {},
   "outputs": [],
   "source": [
    "N = 5\n",
    "x_0 = 1\n",
    "x_end = 4\n",
    "h = (x_end - x_0)/N\n",
    "f_0 = e_to_x(x_0)\n",
    "x = np.linspace(x_0, x_end, N+1)\n",
    "\n",
    "f_euler = euler(e_to_x, x_0, f_0, h, N)\n",
    "f_RK = runge_kutta(e_to_x, x_0, f_0, h, N)\n",
    "\n",
    "N = 30\n",
    "x_soln = np.linspace(x_0, x_end, N+1)\n",
    "f_soln = np.exp(x_soln)"
   ]
  },
  {
   "cell_type": "markdown",
   "metadata": {},
   "source": [
    "## Plot the comparison"
   ]
  },
  {
   "cell_type": "code",
   "execution_count": 6,
   "metadata": {},
   "outputs": [
    {
     "data": {
      "image/png": "[encoded data removed]",
      "text/plain": [
       "<Figure size 720x360 with 1 Axes>"
      ]
     },
     "metadata": {
      "needs_background": "light"
     },
     "output_type": "display_data"
    }
   ],
   "source": [
    "# Plot:\n",
    "fig, ax = plt.subplots(figsize=(10, 5))\n",
    "\n",
    "plt.plot(x_soln, f_soln, 'b-')\n",
    "plt.plot(x, f_euler, 'ro--')\n",
    "plt.plot(x, f_RK, 'go--')\n",
    "\n",
    "plt.grid(True, alpha=0.1)\n",
    "plt.xlabel(r'x', fontsize=font_labels, **csfont)\n",
    "plt.ylabel(r'f(x)', fontsize=font_labels, **csfont)\n",
    "lgnd = plt.legend(['Analytical', 'Euler', 'R-K'], fontsize=font_legend, loc=\"upper left\")\n",
    "    \n",
    "# Save plot:\n",
    "filename = 'euler-runge-kutta-4th-order-comparison.png'\n",
    "plt.savefig(filename, dpi = 150)"
   ]
  }
 ],
 "metadata": {
  "kernelspec": {
   "display_name": "Python 3",
   "language": "python",
   "name": "python3"
  },
  "language_info": {
   "codemirror_mode": {
    "name": "ipython",
    "version": 3
   },
   "file_extension": ".py",
   "mimetype": "text/x-python",
   "name": "python",
   "nbconvert_exporter": "python",
   "pygments_lexer": "ipython3",
   "version": "3.7.6"
  }
 },
 "nbformat": 4,
 "nbformat_minor": 2
}
